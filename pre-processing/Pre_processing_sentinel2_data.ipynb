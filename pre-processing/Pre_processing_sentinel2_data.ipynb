{
  "nbformat": 4,
  "nbformat_minor": 0,
  "metadata": {
    "colab": {
      "provenance": [],
      "include_colab_link": true
    },
    "kernelspec": {
      "name": "python3",
      "display_name": "Python 3"
    },
    "language_info": {
      "name": "python"
    }
  },
  "cells": [
    {
      "cell_type": "markdown",
      "metadata": {
        "id": "view-in-github",
        "colab_type": "text"
      },
      "source": [
        "<a href=\"https://colab.research.google.com/github/ashikbharishivaprasad/AFB_Delineation/blob/master/Pre_processing_sentinel2_data.ipynb\" target=\"_parent\"><img src=\"https://colab.research.google.com/assets/colab-badge.svg\" alt=\"Open In Colab\"/></a>"
      ]
    },
    {
      "cell_type": "code",
      "source": [
        "!earthengine authenticate"
      ],
      "metadata": {
        "colab": {
          "base_uri": "https://localhost:8080/"
        },
        "id": "5IYt1OzYr0Ul",
        "outputId": "11d3c98d-6c5b-469f-c04f-14ddfd948173"
      },
      "execution_count": null,
      "outputs": [
        {
          "output_type": "stream",
          "name": "stdout",
          "text": [
            "To authorize access needed by Earth Engine, open the following URL in a web browser and follow the instructions. If the web browser does not start automatically, please manually browse the URL below.\n",
            "\n",
            "    https://code.earthengine.google.com/client-auth?scopes=https%3A//www.googleapis.com/auth/earthengine%20https%3A//www.googleapis.com/auth/devstorage.full_control&request_id=sehKhlm-U2Xn2QCjjk7RxZ_1Iwidkhpp8swX-o8kuWo&tc=toVMHtv2ruewuvYe65jewQWhT9VXFrw_NnEEfRy7uQw&cc=q03e_T-dQQBnvFT0eIol70lZ-aHCkUOAf2jmbmoeAP0\n",
            "\n",
            "The authorization workflow will generate a code, which you should paste in the box below.\n",
            "Enter verification code: 4/1AbUR2VPwYAZSZ94Qoi3m9lJ7s3OQkRyWjet1UyUt9X7Yp7D28Kutv9CagJc\n",
            "\n",
            "Successfully saved authorization token.\n"
          ]
        }
      ]
    },
    {
      "cell_type": "code",
      "execution_count": null,
      "metadata": {
        "id": "uTouZ3H6rV_Y"
      },
      "outputs": [],
      "source": [
        "import ee\n",
        "ee.Initialize()\n",
        "\n",
        "# Region Bounding Box coordinates\n",
        "## Cambodia (study area) #AOI Phase 0\n",
        "#geometry = ee.Geometry.Polygon(\n",
        "#        [[[105.246277000283385, 11.598431999936906],\n",
        "#          [105.246277000283385, 11.880789999658816],\n",
        "#          [105.404204999561159, 11.880789999658816],\n",
        "#          [105.404204999561159, 11.598431999936906]]]);\n",
        "\n",
        "# Cambodia\n",
        "# geometry = ee.Geometry.Polygon(\n",
        "#        [[[102.334899902000075, 10.394470215000069],\n",
        "#          [102.334899902000075, 14.689270020000070],\n",
        "#          [107.627685547000070, 14.689270020000070],\n",
        "#          [107.627685547000070, 10.394470215000069]]]);\n",
        "\n",
        "# ## Vietnam (study area) #AOI Phase 0\n",
        "geometry = ee.Geometry.Polygon(\n",
        "        [[[106.080089902327188, 20.671660052069797],\n",
        "          [106.080089902327188, 20.904044130432339],\n",
        "          [106.239391660097112, 20.904044130432339],\n",
        "          [106.239391660097112, 20.671660052069797]]]);\n",
        "\n",
        "## Vietnam \n",
        "# geometry = ee.Geometry.Polygon(\n",
        "#         [[[109,553157, 8,458751],\n",
        "#           [109,553157, 23,663507],\n",
        "#           [101,593860, 23,663507],\n",
        "#           [101,593860, 8,458751]]]);\n",
        "\n",
        "cloud_th = 40;\n",
        "start_date = '2017-01-01';\n",
        "stop_date = '2022-12-31';\n",
        "bands = ['B2', 'B3', 'B4','B8','SCL'] ;"
      ]
    },
    {
      "cell_type": "code",
      "source": [
        "def maskS2clouds(image): \n",
        "    qa = image.select('SCL');\n",
        "    shadowBitMask = 1 << 3\n",
        "    cloud1BitMask = 1 << 8\n",
        "    cloud2BitMask = 1 << 9\n",
        "    cirrusBitMask = 1 << 10\n",
        "    mask = qa.bitwiseAnd(shadowBitMask).eq(0) and qa.bitwiseAnd(cloud1BitMask).eq(0) and qa.bitwiseAnd(cloud2BitMask).eq(0) and qa.bitwiseAnd(cirrusBitMask).eq(0)\n",
        "           \n",
        "    return image.updateMask(mask)"
      ],
      "metadata": {
        "id": "sAmbCxPdrflg"
      },
      "execution_count": null,
      "outputs": []
    },
    {
      "cell_type": "code",
      "source": [
        "Jan_Dec_Nov_2021 = ee.ImageCollection(\"COPERNICUS/S2_SR\")\\\n",
        "          .filterDate('2020-11-01','2021-01-31')\\\n",
        "          .filterMetadata('CLOUD_COVERAGE_ASSESSMENT','less_than',cloud_th)\\\n",
        "          .select(bands)\\\n",
        "          .map(maskS2clouds);\n",
        "Jan_Dec_Nov_2020 = ee.ImageCollection(\"COPERNICUS/S2_SR\")\\\n",
        "          .filterDate('2019-11-01','2020-01-31')\\\n",
        "          .filterMetadata('CLOUD_COVERAGE_ASSESSMENT','less_than',cloud_th)\\\n",
        "          .select(bands)\\\n",
        "          .map(maskS2clouds);\n",
        "Jan_Dec_Nov_2019 = ee.ImageCollection(\"COPERNICUS/S2_SR\")\\\n",
        "          .filterDate('2018-11-01','2019-01-31')\\\n",
        "          .filterMetadata('CLOUD_COVERAGE_ASSESSMENT','less_than',cloud_th)\\\n",
        "          .select(bands)\\\n",
        "          .map(maskS2clouds);          \n",
        "# Feb = ee.ImageCollection(\"COPERNICUS/S2_SR\")\\\n",
        "#           .filterDate('2021-02-01','2021-02-28')\\\n",
        "#           .filterMetadata('CLOUD_COVERAGE_ASSESSMENT','less_than',cloud_th)\\\n",
        "#           .select(bands)\\\n",
        "#           .map(maskS2clouds);\n",
        "# Mar = ee.ImageCollection(\"COPERNICUS/S2_SR\")\\\n",
        "#           .filterDate('2021-03-01','2021-03-31')\\\n",
        "#           .filterMetadata('CLOUD_COVERAGE_ASSESSMENT','less_than',cloud_th)\\\n",
        "#           .select(bands)\\\n",
        "#           .map(maskS2clouds);\n",
        "# Apr = ee.ImageCollection(\"COPERNICUS/S2_SR\")\\\n",
        "#           .filterDate('2021-04-01','2021-04-30')\\\n",
        "#           .filterMetadata('CLOUD_COVERAGE_ASSESSMENT','less_than',cloud_th)\\\n",
        "#           .select(bands)\\\n",
        "#           .map(maskS2clouds);\n",
        "# May = ee.ImageCollection(\"COPERNICUS/S2_SR\")\\\n",
        "#           .filterDate('2021-05-01','2021-05-31')\\\n",
        "#           .filterMetadata('CLOUD_COVERAGE_ASSESSMENT','less_than',cloud_th)\\\n",
        "#           .select(bands)\\\n",
        "#           .map(maskS2clouds);\n",
        "# Jun = ee.ImageCollection(\"COPERNICUS/S2_SR\")\\\n",
        "#           .filterDate('2021-06-01','2021-06-30')\\\n",
        "#           .filterMetadata('CLOUD_COVERAGE_ASSESSMENT','less_than',cloud_th)\\\n",
        "#           .select(bands)\\\n",
        "#           .map(maskS2clouds);\n",
        "# Jul = ee.ImageCollection(\"COPERNICUS/S2_SR\")\\\n",
        "#           .filterDate('2021-07-01','2021-07-31')\\\n",
        "#           .filterMetadata('CLOUD_COVERAGE_ASSESSMENT','less_than',cloud_th)\\\n",
        "#           .select(bands)\\\n",
        "#           .map(maskS2clouds);\n",
        "# Aug = ee.ImageCollection(\"COPERNICUS/S2_SR\")\\\n",
        "#           .filterDate('2021-08-01','2021-08-31')\\\n",
        "#           .filterMetadata('CLOUD_COVERAGE_ASSESSMENT','less_than',cloud_th)\\\n",
        "#           .select(bands)\\\n",
        "#           .map(maskS2clouds);\n",
        "# Sep = ee.ImageCollection(\"COPERNICUS/S2_SR\")\\\n",
        "#           .filterDate('2021-09-01','2021-09-30')\\\n",
        "#           .filterMetadata('CLOUD_COVERAGE_ASSESSMENT','less_than',cloud_th)\\\n",
        "#           .select(bands)\\\n",
        "#           .map(maskS2clouds);\n",
        "# Oct = ee.ImageCollection(\"COPERNICUS/S2_SR\")\\\n",
        "#           .filterDate('2021-10-01','2021-10-31')\\\n",
        "#           .filterMetadata('CLOUD_COVERAGE_ASSESSMENT','less_than',cloud_th)\\\n",
        "#           .select(bands)\\\n",
        "          # .map(maskS2clouds);\n",
        "# Nov = ee.ImageCollection(\"COPERNICUS/S2_SR\")\\\n",
        "#           .filterDate('2020-11-01','2020-11-30')\\\n",
        "#           .filterMetadata('CLOUD_COVERAGE_ASSESSMENT','less_than',cloud_th)\\\n",
        "#           .select(bands)\\\n",
        "#           .map(maskS2clouds);\n",
        "# Dec = ee.ImageCollection(\"COPERNICUS/S2_SR\")\\\n",
        "#           .filterDate('2020-12-01','2020-12-31')\\\n",
        "#           .filterMetadata('CLOUD_COVERAGE_ASSESSMENT','less_than',cloud_th)\\\n",
        "#           .select(bands)\\\n",
        "#           .map(maskS2clouds);\n",
        "# Nov_Dec_2020_Jan_2021 = ee.ImageCollection(\"COPERNICUS/S2_SR\")\\\n",
        "#           .filterDate('2020-11-01','2021-01-31')\\\n",
        "#           .filterMetadata('CLOUD_COVERAGE_ASSESSMENT','less_than',cloud_th)\\\n",
        "#           .select(bands)\\\n",
        "#           .map(maskS2clouds);\n",
        "# Jan2017 = ee.ImageCollection(\"COPERNICUS/S2_SR\")\\\n",
        "#           .filterDate('2017-01-01','2017-12-31')\\\n",
        "#           .filterMetadata('CLOUD_COVERAGE_ASSESSMENT','less_than',cloud_th)\\\n",
        "#           .select(bands)\\\n",
        "#           .map(maskS2clouds);\n",
        "# Jan2018 = ee.ImageCollection(\"COPERNICUS/S2_SR\")\\\n",
        "#           .filterDate('2018-01-01','2018-12-31')\\\n",
        "#           .filterMetadata('CLOUD_COVERAGE_ASSESSMENT','less_than',cloud_th)\\\n",
        "#           .select(bands)\\\n",
        "#           .map(maskS2clouds);\n",
        "# Jan2019 = ee.ImageCollection(\"COPERNICUS/S2_SR\")\\\n",
        "#           .filterDate('2019-01-01','2019-12-31')\\\n",
        "#           .filterMetadata('CLOUD_COVERAGE_ASSESSMENT','less_than',cloud_th)\\\n",
        "#           .select(bands)\\\n",
        "#           .map(maskS2clouds);\n",
        "# Jan2020 = ee.ImageCollection(\"COPERNICUS/S2_SR\")\\\n",
        "#           .filterDate('2020-01-01','2020-12-31')\\\n",
        "#           .filterMetadata('CLOUD_COVERAGE_ASSESSMENT','less_than',cloud_th)\\\n",
        "#           .select(bands)\\\n",
        "#           .map(maskS2clouds);\n",
        "# Jan2022 = ee.ImageCollection(\"COPERNICUS/S2_SR\")\\\n",
        "#           .filterDate('2022-01-01','2022-12-31')\\\n",
        "#           .filterMetadata('CLOUD_COVERAGE_ASSESSMENT','less_than',cloud_th)\\\n",
        "#           .select(bands)\\\n",
        "#           .map(maskS2clouds);\n",
        "\n",
        "S2_2021 = Jan_Dec_Nov_2021.median().clip(geometry);  \n",
        "# Feb_S2 = Feb.median().clip(geometry);  \n",
        "# Mar_S2 = Mar.median().clip(geometry);  \n",
        "# Apr_S2 = Apr.median().clip(geometry);  \n",
        "# May_S2 = May.median().clip(geometry);  \n",
        "# Jun_S2 = Jun.median().clip(geometry);  \n",
        "# Jul_S2 = Jul.median().clip(geometry);  \n",
        "# Aug_S2 = Aug.median().clip(geometry);  \n",
        "# Sep_S2 = Sep.median().clip(geometry);  \n",
        "# Oct_S2 = Oct.median().clip(geometry);  \n",
        "S2_2020 = Jan_Dec_Nov_2020.median().clip(geometry);  \n",
        "S2_2019 = Jan_Dec_Nov_2019.median().clip(geometry); \n",
        "\n",
        "\n",
        "# Jan2021_S2 = Nov_Dec_2020_Jan_2021.median().clip(geometry);  \n",
        "# Jan2017_S2 = Jan2017.median().clip(geometry);\n",
        "# Jan2018_S2 = Jan2018.median().clip(geometry);\n",
        "# Jan2019_S2 = Jan2019.median().clip(geometry);\n",
        "# Jan2020_S2 = Jan2020.median().clip(geometry);\n",
        "# Jan2022_S2 = Jan2022.median().clip(geometry);\n",
        "# collection = ee.ImageCollection([Jan_S2, Feb_S2, Mar_S2, Apr_S2, May_S2, Jun_S2, Jul_S2, Aug_S2,Sep_S2, Oct_S2, Nov_S2, Dec_S2]);\n",
        "\n",
        "collection_median = ee.ImageCollection([S2_2021, S2_2020, S2_2019]);\n",
        "# collection_median = ee.ImageCollection([Jan2021_S2, Jan2017_S2, Jan2018_S2, Jan2019_S2, Jan2020_S2, Jan2022_S2])\n",
        "\n",
        "\n",
        "# # Geometric Median Composite \n",
        "Jan_GM_2021 =  Jan_Dec_Nov_2021.reduce(ee.Reducer.geometricMedian(5)).clip(geometry)\n",
        "Nov_GM_2020 =  Jan_Dec_Nov_2020.reduce(ee.Reducer.geometricMedian(5)).clip(geometry)\n",
        "Dec_GM_2020 =  Jan_Dec_Nov_2019.reduce(ee.Reducer.geometricMedian(5)).clip(geometry)\n",
        "# Jan_GM_2019 =  Jan2019.reduce(ee.Reducer.geometricMedian(5)).clip(geometry)\n",
        "# Jan_GM_2020 =  Jan2020.reduce(ee.Reducer.geometricMedian(5)).clip(geometry)\n",
        "# Jan_GM_2022 =  Jan2022.reduce(ee.Reducer.geometricMedian(5)).clip(geometry)\n",
        "# #collection GM\n",
        "# collection_GM = ee.ImageCollection([Jan2021_S2, Jan2017_S2, Jan2018_S2, Jan2019_S2, Jan2020_S2, Jan2022_S2])\n",
        "collection_GM = ee.ImageCollection([Jan_GM_2021, Nov_GM_2020, Dec_GM_2020])\n",
        "# Geometric Mean Composite \n",
        "# Jan_GM_2021 =  Jan2021.reduce(ee.Reducer.mean()).clip(geometry)\n",
        "# Jan_GM_2017 =  Jan2017.reduce(ee.Reducer.mean()).clip(geometry)\n",
        "# Jan_GM_2018 =  Jan2018.reduce(ee.Reducer.mean()).clip(geometry)\n",
        "# Jan_GM_2019 =  Jan2019.reduce(ee.Reducer.mean()).clip(geometry)\n",
        "# Jan_GM_2020 =  Jan2020.reduce(ee.Reducer.mean()).clip(geometry)\n",
        "# Jan_GM_2022 =  Jan2022.reduce(ee.Reducer.mean()).clip(geometry)\n",
        "\n",
        "# Jan_GM_2021 =  Jan2019.reduce(ee.Reducer.mean()).clip(geometry)\n",
        "# Dec_GM_2020 =  Jan2020.reduce(ee.Reducer.mean()).clip(geometry)\n",
        "# _GM_2022 =  Jan2022.reduce(ee.Reducer.mean()).clip(geometry)\n",
        "\n",
        "# #collection Mean\n",
        "# collection_Mean = ee.ImageCollection([Jan2021_S2, Jan2017_S2, Jan2018_S2, Jan2019_S2, Jan2020_S2, Jan2022_S2])\n",
        "\n",
        "\n",
        "\n"
      ],
      "metadata": {
        "id": "JZYvoJSNrmHw"
      },
      "execution_count": null,
      "outputs": []
    },
    {
      "cell_type": "code",
      "source": [
        "def medoidMosaic(img_collection,geom):\n",
        "    median = img_collection.median().clip(geometry); # calculate the median of the annual image collection - returns a single 6 band image - the collection median per band\n",
        "    \n",
        "    def function(img):\n",
        "        diff = ee.Image(img).subtract(median).pow(ee.Image.constant(2)); # get the difference between each image/band and the corresponding band median and take to power of 2 to make negatives positive and make greater differences weight more\n",
        "        return diff.reduce('sum').addBands(img); #per image in collection, sum the powered difference across the bands - set this as the first band add the SR bands to it - now a 7 band image collection\n",
        "    medoid = img_collection.map(function);\n",
        "    return ee.ImageCollection(medoid).reduce(ee.Reducer.min(6)).select([1,2,3,4], ['B2', 'B3', 'B4','B8']); # find the powered difference that is the least - what image object is the closest to the median of teh collection - and then subset the SR bands and name them - leave behind the powered difference band\n",
        "\n",
        "S2_JAN_2021_medoid = medoidMosaic(Jan_Dec_Nov_2021,geometry)\n",
        "S2_NOV_2020_medoid = medoidMosaic(Jan_Dec_Nov_2020,geometry)\n",
        "S2_DEC_2020_medoid = medoidMosaic(Jan_Dec_Nov_2019,geometry)\n",
        "# S2_2019_medoid = medoidMosaic(Jan2019,geometry)\n",
        "# S2_2020_medoid = medoidMosaic(Jan2020,geometry)\n",
        "# S2_2022_medoid = medoidMosaic(Jan2022,geometry)\n",
        "\n",
        "# Jan2021_S2 = Jan2021.median().clip(geometry);\n",
        "# Jan2017_S2 = Jan2017.median().clip(geometry);\n",
        "# Jan2018_S2 = Jan2018.median().clip(geometry);\n",
        "# Jan2019_S2 = Jan2019.median().clip(geometry);\n",
        "# Jan2020_S2 = Jan2020.median().clip(geometry);\n",
        "# Jan2022_S2 = Jan2022.median().clip(geometry);\n",
        "\n",
        "\n",
        "# Jan2021_S2_medoid  = medoidMosaic(Jan2021_S2)\n",
        "# Jan2022_S2_medoid  = medoidMosaic(Jan2022_S2)\n",
        "# # Jan2020_S2_medoid  = medoidMosaic(Jan2020_S2)\n",
        "# Jan2019_S2_medoid  = medoidMosaic(Jan2019_S2)\n",
        "# Jan2018_S2_medoid  = medoidMosaic(Jan2018_S2)\n",
        "# Jan2017_S2_medoid  = medoidMosaic(Jan2017_S2)\n",
        "\n",
        "\n",
        "\n",
        "collection_Medoid = ee.ImageCollection([S2_JAN_2021_medoid,S2_NOV_2020_medoid, S2_DEC_2020_medoid])\n",
        "\n"
      ],
      "metadata": {
        "id": "leZOyP8w8I4p"
      },
      "execution_count": null,
      "outputs": []
    },
    {
      "cell_type": "code",
      "source": [
        "!pip install geetools\n",
        "\n",
        "import geetools"
      ],
      "metadata": {
        "colab": {
          "base_uri": "https://localhost:8080/"
        },
        "id": "JwkEVDnlEWio",
        "outputId": "1cc2b94f-42d0-4eaf-cf86-b5a7f1047cdf"
      },
      "execution_count": null,
      "outputs": [
        {
          "output_type": "stream",
          "name": "stdout",
          "text": [
            "Looking in indexes: https://pypi.org/simple, https://us-python.pkg.dev/colab-wheels/public/simple/\n",
            "Collecting geetools\n",
            "  Downloading geetools-0.6.14.tar.gz (74 kB)\n",
            "\u001b[2K     \u001b[90m━━━━━━━━━━━━━━━━━━━━━━━━━━━━━━━━━━━━━━━━\u001b[0m \u001b[32m74.5/74.5 kB\u001b[0m \u001b[31m2.8 MB/s\u001b[0m eta \u001b[36m0:00:00\u001b[0m\n",
            "\u001b[?25h  Preparing metadata (setup.py) ... \u001b[?25l\u001b[?25hdone\n",
            "Requirement already satisfied: requests in /usr/local/lib/python3.10/dist-packages (from geetools) (2.27.1)\n",
            "Collecting pyshp (from geetools)\n",
            "  Downloading pyshp-2.3.1-py2.py3-none-any.whl (46 kB)\n",
            "\u001b[2K     \u001b[90m━━━━━━━━━━━━━━━━━━━━━━━━━━━━━━━━━━━━━━━━\u001b[0m \u001b[32m46.5/46.5 kB\u001b[0m \u001b[31m4.7 MB/s\u001b[0m eta \u001b[36m0:00:00\u001b[0m\n",
            "\u001b[?25hRequirement already satisfied: pandas in /usr/local/lib/python3.10/dist-packages (from geetools) (1.5.3)\n",
            "Requirement already satisfied: python-dateutil>=2.8.1 in /usr/local/lib/python3.10/dist-packages (from pandas->geetools) (2.8.2)\n",
            "Requirement already satisfied: pytz>=2020.1 in /usr/local/lib/python3.10/dist-packages (from pandas->geetools) (2022.7.1)\n",
            "Requirement already satisfied: numpy>=1.21.0 in /usr/local/lib/python3.10/dist-packages (from pandas->geetools) (1.22.4)\n",
            "Requirement already satisfied: urllib3<1.27,>=1.21.1 in /usr/local/lib/python3.10/dist-packages (from requests->geetools) (1.26.15)\n",
            "Requirement already satisfied: certifi>=2017.4.17 in /usr/local/lib/python3.10/dist-packages (from requests->geetools) (2022.12.7)\n",
            "Requirement already satisfied: charset-normalizer~=2.0.0 in /usr/local/lib/python3.10/dist-packages (from requests->geetools) (2.0.12)\n",
            "Requirement already satisfied: idna<4,>=2.5 in /usr/local/lib/python3.10/dist-packages (from requests->geetools) (3.4)\n",
            "Requirement already satisfied: six>=1.5 in /usr/local/lib/python3.10/dist-packages (from python-dateutil>=2.8.1->pandas->geetools) (1.16.0)\n",
            "Building wheels for collected packages: geetools\n",
            "  Building wheel for geetools (setup.py) ... \u001b[?25l\u001b[?25hdone\n",
            "  Created wheel for geetools: filename=geetools-0.6.14-py3-none-any.whl size=92090 sha256=522944c49ea0dad8e453b4f7cb4a3f89f900dafca5732c5cddf9644d0a54a8d5\n",
            "  Stored in directory: /root/.cache/pip/wheels/e9/a8/7f/40bf5aafcc334b20cd12d0328aff7861e8ea655c20190967fb\n",
            "Successfully built geetools\n",
            "Installing collected packages: pyshp, geetools\n",
            "Successfully installed geetools-0.6.14 pyshp-2.3.1\n"
          ]
        }
      ]
    },
    {
      "cell_type": "code",
      "source": [
        "# ## Export\n",
        "tasks = geetools.batch.Export.imagecollection.toDrive(\n",
        "            collection = collection_Medoid,\n",
        "            # folder ='S2_Cambodia_Download',\n",
        "            folder ='S2_MSc_Thesis_Vietnam_Medoid26523_seasonNDJ2021',\n",
        "            region = geometry.getInfo()['coordinates'],\n",
        "            scale = 10,\n",
        "            maxPixels = 5E10\n",
        "        )"
      ],
      "metadata": {
        "id": "mcF9gIACr4Eu"
      },
      "execution_count": null,
      "outputs": []
    },
    {
      "cell_type": "code",
      "source": [
        "tasks"
      ],
      "metadata": {
        "id": "y-FlmEaetqjC",
        "colab": {
          "base_uri": "https://localhost:8080/"
        },
        "outputId": "5543c2b3-46f2-42f2-ff1b-6eb97c5eea3d"
      },
      "execution_count": null,
      "outputs": [
        {
          "output_type": "execute_result",
          "data": {
            "text/plain": [
              "[<Task 4F7AGGIBGX7OEL6IH6IQEGTY EXPORT_IMAGE: 0 (UNSUBMITTED)>,\n",
              " <Task JREO5M2FM7AY7DTYZCJR6PCL EXPORT_IMAGE: 1 (UNSUBMITTED)>,\n",
              " <Task 2GD2MEHG3KRCKMKQAF63HOIE EXPORT_IMAGE: 2 (UNSUBMITTED)>]"
            ]
          },
          "metadata": {},
          "execution_count": 14
        }
      ]
    },
    {
      "cell_type": "code",
      "source": [
        "from google.colab import drive\n",
        "drive.mount('/content/drive')"
      ],
      "metadata": {
        "colab": {
          "base_uri": "https://localhost:8080/"
        },
        "id": "BNCAZ2PutuOp",
        "outputId": "9f29468f-9121-4db7-e220-39845628c19c"
      },
      "execution_count": null,
      "outputs": [
        {
          "output_type": "stream",
          "name": "stdout",
          "text": [
            "Mounted at /content/drive\n"
          ]
        }
      ]
    },
    {
      "cell_type": "code",
      "source": [],
      "metadata": {
        "id": "5CyC_EeXztC4"
      },
      "execution_count": null,
      "outputs": []
    }
  ]
}